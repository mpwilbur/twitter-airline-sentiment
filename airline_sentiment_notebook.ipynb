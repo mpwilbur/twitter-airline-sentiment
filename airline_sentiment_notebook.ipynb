{
 "cells": [
  {
   "cell_type": "markdown",
   "metadata": {},
   "source": [
    "# Sentiment Analysis\n",
    "# Neural Network with pretrained vectors"
   ]
  },
  {
   "cell_type": "markdown",
   "metadata": {},
   "source": [
    "## Prepare the tweets"
   ]
  },
  {
   "cell_type": "markdown",
   "metadata": {},
   "source": [
    "1. Load tweets and labels in pandas dataframes\n",
    "2. Stem and clean tweets\n",
    "3. Finish with final tweets and labels in pandas dataframes"
   ]
  },
  {
   "cell_type": "markdown",
   "metadata": {},
   "source": [
    "If train_.. is 1, then train that model, if 0 then do not train that model\n",
    "\n",
    "if eval_.. is 1, then load that model and evaluate on train and test data, if 0 do not load or evaluate\n",
    "\n",
    "Note: if you want to fully train the model, both train_.. and eval_.. should be set to 1"
   ]
  },
  {
   "cell_type": "code",
   "execution_count": null,
   "metadata": {
    "collapsed": true
   },
   "outputs": [],
   "source": [
    "train_NN = 1\n",
    "eval_NN = 1\n",
    "train_Linear = 1\n",
    "eval_Linear = 1"
   ]
  },
  {
   "cell_type": "code",
   "execution_count": null,
   "metadata": {
    "collapsed": true
   },
   "outputs": [],
   "source": [
    "import pandas as pd\n",
    "import nltk\n",
    "import string\n",
    "import tensorflow as tf\n",
    "from sklearn.model_selection import train_test_split\n",
    "import os\n",
    "import numpy as np"
   ]
  },
  {
   "cell_type": "code",
   "execution_count": null,
   "metadata": {
    "collapsed": true
   },
   "outputs": [],
   "source": [
    "labels = pd.read_csv('Tweets.csv', usecols = ['airline_sentiment'])\n",
    "labels = labels.replace(['negative', 'neutral', 'positive'], [0, 1, 2])\n",
    "tweets = pd.read_csv('Tweets.csv', usecols = ['text'])"
   ]
  },
  {
   "cell_type": "code",
   "execution_count": null,
   "metadata": {
    "collapsed": true
   },
   "outputs": [],
   "source": [
    "# create custom stoplist\n",
    "stoplist = ['to', 'the', 'i', 'a', 'and', 'you', 'is', 'my', 'that',\n",
    "           'was', 'but', 'me', 'your', 'this', 'we', 'are', 'so', 'be',\n",
    "           'with', 'he', 'she', 'them', 'it', 'their', 'at', 'get', 'in',\n",
    "           'there', 'on', 'have', 'am', 'when', 'if', '...', 'do', 'of',\n",
    "           'or', 'tho', 'though', 'for', 'from', 'u', \"i'm\", 'because',\n",
    "           'us', 'an', 'just', 'by', 'had', 'all', 'now', 'will']\n",
    "#stoplist = ['to', 'the', 'i', 'a', 'me', 'your', 'he', 'she', '...']\n",
    "#stoplist = []"
   ]
  },
  {
   "cell_type": "code",
   "execution_count": null,
   "metadata": {
    "collapsed": true
   },
   "outputs": [],
   "source": [
    "def lem(tweet, tknzr, stoplist):\n",
    "    temp = tknzr.tokenize(tweet)\n",
    "    result = []\n",
    "    tweet_length = 0\n",
    "    for x in temp:\n",
    "        if x in string.punctuation:\n",
    "            continue\n",
    "        elif x in ['“', '”', \"’\", ' ']:\n",
    "            continue\n",
    "        elif str('\\n') in x:\n",
    "            continue\n",
    "        elif x in stoplist:\n",
    "            continue\n",
    "        else:\n",
    "            result.append(x)\n",
    "            tweet_length += 1\n",
    "    if len(result) == 0:\n",
    "        result.append('0')\n",
    "    r = ' '.join(result)\n",
    "    return r, tweet_length"
   ]
  },
  {
   "cell_type": "code",
   "execution_count": null,
   "metadata": {},
   "outputs": [],
   "source": [
    "# create tokenizer\n",
    "tknzr = nltk.tokenize.casual.TweetTokenizer(preserve_case = False, strip_handles = True, reduce_len = True)\n",
    "count = 0\n",
    "vals = tweets.text.values\n",
    "tweet_length_max = 0\n",
    "with open('all_text.txt', 'w', encoding = 'utf-8') as f:\n",
    "    for x in vals:\n",
    "        tweet = x\n",
    "        r, tweet_length = lem(tweet, tknzr, stoplist)\n",
    "        f.write(r + '\\n')\n",
    "        count += 1\n",
    "        if tweet_length > tweet_length_max:\n",
    "            tweet_length_max = tweet_length\n",
    "f.close()\n",
    "print('maximum length of tweet: ', tweet_length_max)"
   ]
  },
  {
   "cell_type": "code",
   "execution_count": null,
   "metadata": {},
   "outputs": [],
   "source": [
    "cols = ['word' + str(x) for x in range(0, tweet_length_max)]\n",
    "tweets = pd.read_csv('all_text.txt', header = None, delim_whitespace = True,\n",
    "                    names = cols)\n",
    "tweets = tweets.fillna('0')\n",
    "print(len(tweets))"
   ]
  },
  {
   "cell_type": "markdown",
   "metadata": {},
   "source": [
    "So now we have our tweets and labels in DataFrames labeled tweets, and labels respectively"
   ]
  },
  {
   "cell_type": "markdown",
   "metadata": {},
   "source": [
    "## Prepare embedding layer"
   ]
  },
  {
   "cell_type": "markdown",
   "metadata": {},
   "source": [
    "Will use pre-trained GloVe vectors, trained on tweets and downloaded from\n",
    "https://nlp.stanford.edu/projects/glove/\n",
    "The raw text file is loaded, and then transformed into a dictionary. This dictionary can take in a word and will return the GloVe vectorization for that word. Each word is a 50 dimension vector in this model"
   ]
  },
  {
   "cell_type": "code",
   "execution_count": null,
   "metadata": {
    "collapsed": true
   },
   "outputs": [],
   "source": [
    "import numpy as np"
   ]
  },
  {
   "cell_type": "code",
   "execution_count": null,
   "metadata": {
    "collapsed": true
   },
   "outputs": [],
   "source": [
    "def loadGloveModel(gloveFile):\n",
    "    print(\"Loading Glove Model\")\n",
    "    f = open(gloveFile,'r')\n",
    "    model = {}\n",
    "    for line in f:\n",
    "        splitLine = line.split()\n",
    "        word = splitLine[0]\n",
    "        embedding = np.array([float(val) for val in splitLine[1:]])\n",
    "        model[word] = embedding\n",
    "    print(\"Done.\",len(model),\" words loaded!\")\n",
    "    return model"
   ]
  },
  {
   "cell_type": "code",
   "execution_count": null,
   "metadata": {},
   "outputs": [],
   "source": [
    "embed_model = loadGloveModel('glove_twitter_27B_50d.txt')\n",
    "dim_length = 50"
   ]
  },
  {
   "cell_type": "markdown",
   "metadata": {},
   "source": [
    "# Neural Network"
   ]
  },
  {
   "cell_type": "markdown",
   "metadata": {},
   "source": [
    "## Neural Network Training"
   ]
  },
  {
   "cell_type": "markdown",
   "metadata": {},
   "source": [
    "1. Split tweets and labels into testing and training data\n",
    "2. Model traning input\n",
    "    a. embed(tweets), takes the raw tweets and returns the vector representation. This is fed directly to model\n",
    "    b. input_fn_train transforms the input so tensorflow can understand it\n",
    "3. Training the model\n",
    "    a. use a precanned tensorflow DNNClassifier, train for 100000 iterations"
   ]
  },
  {
   "cell_type": "code",
   "execution_count": null,
   "metadata": {
    "collapsed": true
   },
   "outputs": [],
   "source": [
    "x_train, x_test, y_train, y_test = train_test_split(tweets, labels, test_size = .2, random_state = 42)"
   ]
  },
  {
   "cell_type": "code",
   "execution_count": null,
   "metadata": {
    "collapsed": true,
    "scrolled": true
   },
   "outputs": [],
   "source": [
    "def embed(data, embed_model, dim_length):\n",
    "    zero_val = [0 for y in range(dim_length)]\n",
    "    data_mat = data.as_matrix()\n",
    "    x_embed = []\n",
    "    for tweet in data_mat:\n",
    "        temp = []\n",
    "        for word in tweet:\n",
    "            if word in embed_model:\n",
    "                temp.append(embed_model[word])\n",
    "            else:\n",
    "                temp.append(zero_val)\n",
    "        x_embed.append(temp)\n",
    "    return np.asarray(x_embed)"
   ]
  },
  {
   "cell_type": "code",
   "execution_count": null,
   "metadata": {
    "collapsed": true
   },
   "outputs": [],
   "source": [
    "def input_fn_train(x, y, col):\n",
    "    y_data = y.values.flatten()\n",
    "    x_data = {}\n",
    "    for c in range(len(col)):\n",
    "        x_data[col[c]] = x[:, c]\n",
    "    return tf.estimator.inputs.numpy_input_fn(x=x_data,\n",
    "                                              y=y_data,\n",
    "                                              num_epochs=None,\n",
    "                                              shuffle=False)"
   ]
  },
  {
   "cell_type": "code",
   "execution_count": null,
   "metadata": {
    "collapsed": true
   },
   "outputs": [],
   "source": [
    "import os\n",
    "cwd = os.getcwd()\n",
    "NN_model_directory = os.path.join(cwd, 'NN_model_directory')\n",
    "if not os.path.exists(NN_model_directory):\n",
    "    os.makedirs(NN_model_directory)"
   ]
  },
  {
   "cell_type": "code",
   "execution_count": null,
   "metadata": {},
   "outputs": [],
   "source": [
    "if eval_NN == 1:\n",
    "    features = [tf.contrib.layers.real_valued_column(x, dimension = dim_length) for x in cols]\n",
    "    optimizer = tf.train.AdadeltaOptimizer(learning_rate = 0.001,\n",
    "                                           rho=0.95,\n",
    "                                           epsilon=1e-08,\n",
    "                                           use_locking=False,\n",
    "                                           name='Adadelta')\n",
    "    m = tf.estimator.DNNClassifier(model_dir = NN_model_directory,\n",
    "                                   feature_columns = features,\n",
    "                                   hidden_units = [100, 80],\n",
    "                                   n_classes = 3,\n",
    "                                   optimizer = optimizer)"
   ]
  },
  {
   "cell_type": "code",
   "execution_count": null,
   "metadata": {
    "collapsed": true
   },
   "outputs": [],
   "source": [
    "if train_NN == 1:\n",
    "    x = embed(x_train, embed_model, dim_length)\n",
    "    y = y_train\n",
    "    m.train(input_fn = input_fn_train(x, y, cols),\n",
    "            steps = 100000)"
   ]
  },
  {
   "cell_type": "markdown",
   "metadata": {},
   "source": [
    "## Neural Network Evaluation"
   ]
  },
  {
   "cell_type": "markdown",
   "metadata": {},
   "source": [
    "No we evaluate the model on the training data and the testing data"
   ]
  },
  {
   "cell_type": "code",
   "execution_count": null,
   "metadata": {
    "collapsed": true
   },
   "outputs": [],
   "source": [
    "def input_fn_eval(x, y, col):\n",
    "    y_data = y.values.flatten()\n",
    "    x_data = {}\n",
    "    for c in range(len(col)):\n",
    "        x_data[col[c]] = x[:, c]\n",
    "    return tf.estimator.inputs.numpy_input_fn(x=x_data,\n",
    "                                              y=y_data,\n",
    "                                              num_epochs = 1,\n",
    "                                              shuffle=False)"
   ]
  },
  {
   "cell_type": "code",
   "execution_count": null,
   "metadata": {},
   "outputs": [],
   "source": [
    "if eval_NN == 1:\n",
    "    x = embed(x_train, embed_model, dim_length)\n",
    "    y = y_train\n",
    "    train_eval = m.evaluate(input_fn = input_fn_eval(x, y, cols))\n",
    "    print('accuracy of training model: ', train_eval['accuracy'])"
   ]
  },
  {
   "cell_type": "code",
   "execution_count": null,
   "metadata": {},
   "outputs": [],
   "source": [
    "if eval_NN == 1:\n",
    "    x = embed(x_test, embed_model, dim_length)\n",
    "    y = y_test\n",
    "    test_eval = m.evaluate(input_fn = input_fn_eval(x, y, cols))\n",
    "    print('accuracy of testing model: ', test_eval['accuracy'])"
   ]
  },
  {
   "cell_type": "markdown",
   "metadata": {},
   "source": [
    "Note that after 100000 iterations, I got 74% accuracy on our testing data"
   ]
  },
  {
   "cell_type": "markdown",
   "metadata": {},
   "source": [
    "# Linear Classifier"
   ]
  },
  {
   "cell_type": "markdown",
   "metadata": {},
   "source": [
    "## Train Linear Model"
   ]
  },
  {
   "cell_type": "code",
   "execution_count": null,
   "metadata": {
    "collapsed": true
   },
   "outputs": [],
   "source": [
    "import os\n",
    "cwd = os.getcwd()\n",
    "Linear_model_directory = os.path.join(cwd, 'Linear_model_directory')\n",
    "if not os.path.exists(Linear_model_directory):\n",
    "    os.makedirs(Linear_model_directory)"
   ]
  },
  {
   "cell_type": "code",
   "execution_count": null,
   "metadata": {},
   "outputs": [],
   "source": [
    "if eval_Linear == 1:\n",
    "    features = [tf.contrib.layers.real_valued_column(x, dimension = dim_length) for x in cols]\n",
    "    optimizer = tf.train.AdadeltaOptimizer(learning_rate = 0.001,\n",
    "                                           rho=0.95,\n",
    "                                           epsilon=1e-08,\n",
    "                                           use_locking=False,\n",
    "                                           name='Adadelta')\n",
    "    m_Linear = tf.estimator.LinearClassifier(model_dir = Linear_model_directory,\n",
    "                                   feature_columns = features,\n",
    "                                   n_classes = 3,\n",
    "                                   optimizer = optimizer)"
   ]
  },
  {
   "cell_type": "code",
   "execution_count": null,
   "metadata": {
    "collapsed": true
   },
   "outputs": [],
   "source": [
    "if train_Linear == 1:\n",
    "    x = embed(x_train, embed_model, dim_length)\n",
    "    y = y_train\n",
    "    m_Linear.train(input_fn = input_fn_train(x, y, cols),\n",
    "                   steps = 100000)"
   ]
  },
  {
   "cell_type": "markdown",
   "metadata": {},
   "source": [
    "## Evaluate Linear Model"
   ]
  },
  {
   "cell_type": "code",
   "execution_count": null,
   "metadata": {},
   "outputs": [],
   "source": [
    "if eval_Linear == 1:\n",
    "    x = embed(x_train, embed_model, dim_length)\n",
    "    y = y_train\n",
    "    train_eval = m_Linear.evaluate(input_fn = input_fn_eval(x, y, cols))\n",
    "    print('accuracy of training model: ', train_eval['accuracy'])"
   ]
  },
  {
   "cell_type": "code",
   "execution_count": null,
   "metadata": {},
   "outputs": [],
   "source": [
    "if eval_Linear == 1:\n",
    "    x = embed(x_test, embed_model, dim_length)\n",
    "    y = y_test\n",
    "    test_eval = m_Linear.evaluate(input_fn = input_fn_eval(x, y, cols))\n",
    "    print('accuracy of testing model: ', test_eval['accuracy'])"
   ]
  },
  {
   "cell_type": "markdown",
   "metadata": {},
   "source": [
    "Note that after running the linear model for 100000 steps, I got an accuracy of 72% on the testing data"
   ]
  }
 ],
 "metadata": {
  "kernelspec": {
   "display_name": "Python 3",
   "language": "python",
   "name": "python3"
  },
  "language_info": {
   "codemirror_mode": {
    "name": "ipython",
    "version": 3
   },
   "file_extension": ".py",
   "mimetype": "text/x-python",
   "name": "python",
   "nbconvert_exporter": "python",
   "pygments_lexer": "ipython3",
   "version": "3.6.1"
  }
 },
 "nbformat": 4,
 "nbformat_minor": 2
}
